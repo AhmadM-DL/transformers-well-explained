{
 "cells": [
  {
   "cell_type": "markdown",
   "metadata": {},
   "source": [
    "### Explain Attention\n",
    "\n",
    "In the previous two notebooks we familiries ourselves to tokens, embeddings,\\\n",
    "vocabulary, and masking. In this notebook we will get to know \"Attention\".\n",
    "\n",
    "Attention is a mathmatical operation to maximise part of an input and minimize\\\n",
    "other parts. This is very important in Natural Language Processing (NLP).\\\n",
    "Because we as humans and as advanced computing creatures we look at part\\\n",
    "of a sentence more than other parts. Say \"A cat is on the mat\". We have\\\n",
    "three important keywords [cat, on , mat].  \n",
    "\n",
    "\n",
    "\n"
   ]
  },
  {
   "cell_type": "markdown",
   "metadata": {},
   "source": []
  }
 ],
 "metadata": {
  "language_info": {
   "name": "python"
  }
 },
 "nbformat": 4,
 "nbformat_minor": 2
}
