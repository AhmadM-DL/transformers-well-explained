{
 "cells": [
  {
   "cell_type": "code",
   "execution_count": null,
   "metadata": {},
   "outputs": [],
   "source": [
    "!pip install farasapy"
   ]
  },
  {
   "cell_type": "code",
   "execution_count": 1,
   "metadata": {},
   "outputs": [],
   "source": [
    "import requests\n",
    "import json\n",
    "from bs4 import BeautifulSoup\n",
    "import re"
   ]
  },
  {
   "cell_type": "code",
   "execution_count": null,
   "metadata": {},
   "outputs": [],
   "source": [
    "url = \"https://alarabi.nccal.gov.kw/Home/Article/\"\n",
    "articles = []\n",
    "headers = {'User-Agent': 'Mozilla/5.0 (Windows NT 10.0; Win64; x64) AppleWebKit/537.36 (KHTML, like Gecko) Chrome/58.0.3029.110 Safari/537.3'}\n",
    "segmentor = arabic_segmentor()\n",
    "for i in range(1000, 2000):\n",
    "  response = requests.get(url+str(i), headers= headers)\n",
    "  if response.status_code==200:\n",
    "    print(i, end=\" \")\n",
    "    html = BeautifulSoup(response.content)\n",
    "    details = html.find(\"ul\", {\"class\": \"post-info-dark\"})\n",
    "    author = details.find_all(\"a\")[0].text.strip()\n",
    "    section = details.find_all(\"a\")[1].text.strip()\n",
    "    issue = details.find_all(\"a\")[2].text.strip()\n",
    "    issue = re.sub(r'[^0-9]', '', issue)\n",
    "    paragraphs = [x.text for x in html.find(\"div\", {\"class\": \"news-details-layout1\"}).find(\"div\", {\"class\": \"row\"}).find_all(\"p\")]\n",
    "    paragraphs = [re.sub('[\"\\':;\\(\\)-_$»«/]', '', p) for p in paragraphs]\n",
    "    paragraphs = [re.sub('\\.', ' . ', p) for p in paragraphs]\n",
    "    paragraphs = [re.sub(',', ' ، ', p) for p in paragraphs]\n",
    "    paragraphs = [re.sub('؟', ' ؟ ', p) for p in paragraphs]\n",
    "    paragraphs = [re.sub('!', ' ! ', p) for p in paragraphs]\n",
    "    paragraphs = [re.sub('،', ' ، ', p) for p in paragraphs]\n",
    "    paragraphs = [paragraph for paragraph in paragraphs if paragraph != ' ']\n",
    "    text = \" \".join([re.sub('\\s+', ' ', p) for p in paragraphs])\n",
    "    text = re.sub('\\s+', ' ', text)\n",
    "    text = segmentor.segment(text)\n",
    "    text = re.sub('\\+ة', 'ة', text)\n",
    "    text = re.sub('\\+ا', 'ا', text)\n",
    "    articles += [{\"author\": author, \"section\": section, \"issue\": issue, \"text\": text}]"
   ]
  },
  {
   "cell_type": "code",
   "execution_count": null,
   "metadata": {},
   "outputs": [],
   "source": [
    "json.dump(articles, open(\"alaraby1k.json\", \"w\"))"
   ]
  },
  {
   "cell_type": "code",
   "execution_count": 223,
   "metadata": {},
   "outputs": [],
   "source": [
    "import json, re\n",
    "\n",
    "def detokenizer(word, symbol):\n",
    "    \"\"\" Takes segmented arabic words using 'symbol' and returns the word\n",
    "    tokenized by classifying prefixs and suffixes\n",
    "    \"\"\"\n",
    "    if not symbol in word: return word\n",
    "    prefixes = [\"ال\", \"ل\", \"و\", \"ب\", \"ف\", \"س\", \"لال\", \"وال\", \"بال\"]\n",
    "    suffixes = [\"ت\", \"ه\" , \"ها\", \"ات\", \"ين\", \"هم\", \"ي\", \"ون\", \"وا\", \"نا\", \"هما\"]\n",
    "    common = [\"ك\"]\n",
    "    parts = word.split(symbol)\n",
    "    tokens = []\n",
    "    for i, part in enumerate(parts):\n",
    "        if part in prefixes:\n",
    "            tokens.append(f\"{part}+\")\n",
    "        elif part in suffixes:\n",
    "            tokens.append(f\"+{part}\")\n",
    "        elif part in common:\n",
    "            if i==0:\n",
    "                tokens.append(f\"{part}+\")\n",
    "            else:\n",
    "               tokens.append(f\"+{part}\") \n",
    "        else:\n",
    "            tokens.append(f\"{part}\")\n",
    "    return \" \".join(tokens)"
   ]
  },
  {
   "cell_type": "code",
   "execution_count": 231,
   "metadata": {},
   "outputs": [],
   "source": [
    "alaraby1k = json.load(open(\"alaraby1k.json\", \"r\"))\n",
    "for i, article in enumerate(alaraby1k):\n",
    "    text = article[\"text\"]\n",
    "    words = text.split()\n",
    "    words = [ detokenizer(w, \"+\") for w in words]\n",
    "    text = \" \".join(words)\n",
    "    article[\"text\"] = text\n",
    "json.dump(alaraby1k, open(\"alaraby1k.json\", \"w\"))"
   ]
  }
 ],
 "metadata": {
  "kernelspec": {
   "display_name": "base",
   "language": "python",
   "name": "python3"
  },
  "language_info": {
   "codemirror_mode": {
    "name": "ipython",
    "version": 3
   },
   "file_extension": ".py",
   "mimetype": "text/x-python",
   "name": "python",
   "nbconvert_exporter": "python",
   "pygments_lexer": "ipython3",
   "version": "3.11.5"
  }
 },
 "nbformat": 4,
 "nbformat_minor": 2
}
