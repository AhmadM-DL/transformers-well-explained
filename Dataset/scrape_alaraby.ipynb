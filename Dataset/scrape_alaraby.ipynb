{
 "cells": [
  {
   "cell_type": "code",
   "execution_count": 1,
   "metadata": {},
   "outputs": [],
   "source": [
    "import requests\n",
    "import json\n",
    "from bs4 import BeautifulSoup\n",
    "import re"
   ]
  },
  {
   "cell_type": "code",
   "execution_count": null,
   "metadata": {},
   "outputs": [],
   "source": [
    "url = \"https://alarabi.nccal.gov.kw/Home/Article/\"\n",
    "articles = []\n",
    "headers = {'User-Agent': 'Mozilla/5.0 (Windows NT 10.0; Win64; x64) AppleWebKit/537.36 (KHTML, like Gecko) Chrome/58.0.3029.110 Safari/537.3'}\n",
    "for i in range(1000, 2000):\n",
    "  response = requests.get(url+str(i), headers= headers)\n",
    "  if response.status_code==200:\n",
    "    print(i, end=\" \")\n",
    "    html = BeautifulSoup(response.content)\n",
    "    details = html.find(\"ul\", {\"class\": \"post-info-dark\"})\n",
    "    author = details.find_all(\"a\")[0].text.strip()\n",
    "    section = details.find_all(\"a\")[1].text.strip()\n",
    "    issue = details.find_all(\"a\")[2].text.strip()\n",
    "    issue = re.sub(r'[^0-9]', '', issue)\n",
    "    paragraphs = [x.text for x in html.find(\"div\", {\"class\": \"news-details-layout1\"}).find(\"div\", {\"class\": \"row\"}).find_all(\"p\")]\n",
    "    paragraphs = [re.sub('[\"\\':;\\(\\)-_$»«/]', '', p) for p in paragraphs]\n",
    "    paragraphs = [re.sub('\\.', ' . ', p) for p in paragraphs]\n",
    "    paragraphs = [re.sub(',', ' ، ', p) for p in paragraphs]\n",
    "    paragraphs = [re.sub('؟', ' ؟ ', p) for p in paragraphs]\n",
    "    paragraphs = [re.sub('!', ' ! ', p) for p in paragraphs]\n",
    "    paragraphs = [re.sub('،', ' ، ', p) for p in paragraphs]\n",
    "    paragraphs = [paragraph for paragraph in paragraphs if paragraph != ' ']\n",
    "    text = \" \".join([re.sub('\\s+', ' ', p) for p in paragraphs])\n",
    "    text = re.sub('\\s+', ' ', text)\n",
    "    articles += [{\"author\": author, \"section\": section, \"issue\": issue, \"text\": text}]"
   ]
  },
  {
   "cell_type": "code",
   "execution_count": null,
   "metadata": {},
   "outputs": [],
   "source": [
    "json.dump(articles, open(\"alaraby1k.json\", \"w\"))"
   ]
  }
 ],
 "metadata": {
  "kernelspec": {
   "display_name": "base",
   "language": "python",
   "name": "python3"
  },
  "language_info": {
   "codemirror_mode": {
    "name": "ipython",
    "version": 3
   },
   "file_extension": ".py",
   "mimetype": "text/x-python",
   "name": "python",
   "nbconvert_exporter": "python",
   "pygments_lexer": "ipython3",
   "version": "3.11.5"
  }
 },
 "nbformat": 4,
 "nbformat_minor": 2
}
